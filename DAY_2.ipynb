{
 "cells": [
  {
   "cell_type": "code",
   "execution_count": 1,
   "metadata": {},
   "outputs": [],
   "source": [
    "import pandas as pd"
   ]
  },
  {
   "cell_type": "code",
   "execution_count": 8,
   "metadata": {},
   "outputs": [],
   "source": [
    "money = pd.read_excel(\"usd.xlsx\")"
   ]
  },
  {
   "cell_type": "code",
   "execution_count": 22,
   "metadata": {},
   "outputs": [],
   "source": [
    "money\n",
    "values = money.curs\n"
   ]
  },
  {
   "cell_type": "code",
   "execution_count": 4,
   "metadata": {},
   "outputs": [],
   "source": [
    "past = 7 * 4"
   ]
  },
  {
   "cell_type": "code",
   "execution_count": 5,
   "metadata": {},
   "outputs": [],
   "source": [
    "future = 7"
   ]
  },
  {
   "cell_type": "code",
   "execution_count": 31,
   "metadata": {},
   "outputs": [],
   "source": [
    "start = past"
   ]
  },
  {
   "cell_type": "code",
   "execution_count": 32,
   "metadata": {},
   "outputs": [],
   "source": [
    "end = len(values) - future"
   ]
  },
  {
   "cell_type": "code",
   "execution_count": 13,
   "metadata": {},
   "outputs": [
    {
     "name": "stdout",
     "output_type": "stream",
     "text": [
      "28 511\n"
     ]
    }
   ],
   "source": [
    "print(start, end)"
   ]
  },
  {
   "cell_type": "code",
   "execution_count": 14,
   "metadata": {},
   "outputs": [
    {
     "data": {
      "text/plain": [
       "483"
      ]
     },
     "execution_count": 14,
     "metadata": {},
     "output_type": "execute_result"
    }
   ],
   "source": [
    "end-start"
   ]
  },
  {
   "cell_type": "code",
   "execution_count": 34,
   "metadata": {},
   "outputs": [
    {
     "data": {
      "text/plain": [
       "100    47.4287\n",
       "101    47.3175\n",
       "102    47.4961\n",
       "103    47.4057\n",
       "104    47.7476\n",
       "Name: curs, dtype: float64"
      ]
     },
     "execution_count": 34,
     "metadata": {},
     "output_type": "execute_result"
    }
   ],
   "source": [
    "values[100:105]"
   ]
  },
  {
   "cell_type": "code",
   "execution_count": 35,
   "metadata": {},
   "outputs": [],
   "source": [
    "raw_df = []\n",
    "for i in range(start, end):\n",
    "    past_and_future_values = values[(i - past):(i + future)]\n",
    "    raw_df.append(list(past_and_future_values))"
   ]
  },
  {
   "cell_type": "raw",
   "metadata": {},
   "source": []
  },
  {
   "cell_type": "code",
   "execution_count": 41,
   "metadata": {},
   "outputs": [],
   "source": [
    "past_columns = [f\"*past_{i}\" for i in range(past)]"
   ]
  },
  {
   "cell_type": "code",
   "execution_count": 44,
   "metadata": {},
   "outputs": [],
   "source": [
    "future_columns = [f\"*future_{i}\" for i in range(future)]"
   ]
  },
  {
   "cell_type": "code",
   "execution_count": 45,
   "metadata": {},
   "outputs": [
    {
     "data": {
      "text/plain": [
       "['*future_0',\n",
       " '*future_1',\n",
       " '*future_2',\n",
       " '*future_3',\n",
       " '*future_4',\n",
       " '*future_5',\n",
       " '*future_6']"
      ]
     },
     "execution_count": 45,
     "metadata": {},
     "output_type": "execute_result"
    }
   ],
   "source": [
    "future_columns"
   ]
  },
  {
   "cell_type": "code",
   "execution_count": 46,
   "metadata": {},
   "outputs": [],
   "source": [
    "df = pd.DataFrame(raw_df, columns = (past_columns+future_columns) )"
   ]
  },
  {
   "cell_type": "code",
   "execution_count": 47,
   "metadata": {},
   "outputs": [
    {
     "data": {
      "text/html": [
       "<div>\n",
       "<style scoped>\n",
       "    .dataframe tbody tr th:only-of-type {\n",
       "        vertical-align: middle;\n",
       "    }\n",
       "\n",
       "    .dataframe tbody tr th {\n",
       "        vertical-align: top;\n",
       "    }\n",
       "\n",
       "    .dataframe thead th {\n",
       "        text-align: right;\n",
       "    }\n",
       "</style>\n",
       "<table border=\"1\" class=\"dataframe\">\n",
       "  <thead>\n",
       "    <tr style=\"text-align: right;\">\n",
       "      <th></th>\n",
       "      <th>*past_0</th>\n",
       "      <th>*past_1</th>\n",
       "      <th>*past_2</th>\n",
       "      <th>*past_3</th>\n",
       "      <th>*past_4</th>\n",
       "      <th>*past_5</th>\n",
       "      <th>*past_6</th>\n",
       "      <th>*past_7</th>\n",
       "      <th>*past_8</th>\n",
       "      <th>*past_9</th>\n",
       "      <th>...</th>\n",
       "      <th>*past_25</th>\n",
       "      <th>*past_26</th>\n",
       "      <th>*past_27</th>\n",
       "      <th>*future_0</th>\n",
       "      <th>*future_1</th>\n",
       "      <th>*future_2</th>\n",
       "      <th>*future_3</th>\n",
       "      <th>*future_4</th>\n",
       "      <th>*future_5</th>\n",
       "      <th>*future_6</th>\n",
       "    </tr>\n",
       "  </thead>\n",
       "  <tbody>\n",
       "    <tr>\n",
       "      <td>0</td>\n",
       "      <td>44.6558</td>\n",
       "      <td>44.5205</td>\n",
       "      <td>44.8442</td>\n",
       "      <td>44.5740</td>\n",
       "      <td>44.7925</td>\n",
       "      <td>44.9298</td>\n",
       "      <td>45.0872</td>\n",
       "      <td>45.2999</td>\n",
       "      <td>45.4242</td>\n",
       "      <td>45.2839</td>\n",
       "      <td>...</td>\n",
       "      <td>45.4535</td>\n",
       "      <td>45.3175</td>\n",
       "      <td>45.0810</td>\n",
       "      <td>44.9885</td>\n",
       "      <td>44.6299</td>\n",
       "      <td>44.7470</td>\n",
       "      <td>44.4845</td>\n",
       "      <td>44.3302</td>\n",
       "      <td>44.0936</td>\n",
       "      <td>43.7023</td>\n",
       "    </tr>\n",
       "    <tr>\n",
       "      <td>1</td>\n",
       "      <td>44.5205</td>\n",
       "      <td>44.8442</td>\n",
       "      <td>44.5740</td>\n",
       "      <td>44.7925</td>\n",
       "      <td>44.9298</td>\n",
       "      <td>45.0872</td>\n",
       "      <td>45.2999</td>\n",
       "      <td>45.4242</td>\n",
       "      <td>45.2839</td>\n",
       "      <td>44.9261</td>\n",
       "      <td>...</td>\n",
       "      <td>45.3175</td>\n",
       "      <td>45.0810</td>\n",
       "      <td>44.9885</td>\n",
       "      <td>44.6299</td>\n",
       "      <td>44.7470</td>\n",
       "      <td>44.4845</td>\n",
       "      <td>44.3302</td>\n",
       "      <td>44.0936</td>\n",
       "      <td>43.7023</td>\n",
       "      <td>43.9775</td>\n",
       "    </tr>\n",
       "    <tr>\n",
       "      <td>2</td>\n",
       "      <td>44.8442</td>\n",
       "      <td>44.5740</td>\n",
       "      <td>44.7925</td>\n",
       "      <td>44.9298</td>\n",
       "      <td>45.0872</td>\n",
       "      <td>45.2999</td>\n",
       "      <td>45.4242</td>\n",
       "      <td>45.2839</td>\n",
       "      <td>44.9261</td>\n",
       "      <td>45.2577</td>\n",
       "      <td>...</td>\n",
       "      <td>45.0810</td>\n",
       "      <td>44.9885</td>\n",
       "      <td>44.6299</td>\n",
       "      <td>44.7470</td>\n",
       "      <td>44.4845</td>\n",
       "      <td>44.3302</td>\n",
       "      <td>44.0936</td>\n",
       "      <td>43.7023</td>\n",
       "      <td>43.9775</td>\n",
       "      <td>43.6569</td>\n",
       "    </tr>\n",
       "    <tr>\n",
       "      <td>3</td>\n",
       "      <td>44.5740</td>\n",
       "      <td>44.7925</td>\n",
       "      <td>44.9298</td>\n",
       "      <td>45.0872</td>\n",
       "      <td>45.2999</td>\n",
       "      <td>45.4242</td>\n",
       "      <td>45.2839</td>\n",
       "      <td>44.9261</td>\n",
       "      <td>45.2577</td>\n",
       "      <td>45.1681</td>\n",
       "      <td>...</td>\n",
       "      <td>44.9885</td>\n",
       "      <td>44.6299</td>\n",
       "      <td>44.7470</td>\n",
       "      <td>44.4845</td>\n",
       "      <td>44.3302</td>\n",
       "      <td>44.0936</td>\n",
       "      <td>43.7023</td>\n",
       "      <td>43.9775</td>\n",
       "      <td>43.6569</td>\n",
       "      <td>44.0091</td>\n",
       "    </tr>\n",
       "    <tr>\n",
       "      <td>4</td>\n",
       "      <td>44.7925</td>\n",
       "      <td>44.9298</td>\n",
       "      <td>45.0872</td>\n",
       "      <td>45.2999</td>\n",
       "      <td>45.4242</td>\n",
       "      <td>45.2839</td>\n",
       "      <td>44.9261</td>\n",
       "      <td>45.2577</td>\n",
       "      <td>45.1681</td>\n",
       "      <td>45.1488</td>\n",
       "      <td>...</td>\n",
       "      <td>44.6299</td>\n",
       "      <td>44.7470</td>\n",
       "      <td>44.4845</td>\n",
       "      <td>44.3302</td>\n",
       "      <td>44.0936</td>\n",
       "      <td>43.7023</td>\n",
       "      <td>43.9775</td>\n",
       "      <td>43.6569</td>\n",
       "      <td>44.0091</td>\n",
       "      <td>44.2125</td>\n",
       "    </tr>\n",
       "    <tr>\n",
       "      <td>...</td>\n",
       "      <td>...</td>\n",
       "      <td>...</td>\n",
       "      <td>...</td>\n",
       "      <td>...</td>\n",
       "      <td>...</td>\n",
       "      <td>...</td>\n",
       "      <td>...</td>\n",
       "      <td>...</td>\n",
       "      <td>...</td>\n",
       "      <td>...</td>\n",
       "      <td>...</td>\n",
       "      <td>...</td>\n",
       "      <td>...</td>\n",
       "      <td>...</td>\n",
       "      <td>...</td>\n",
       "      <td>...</td>\n",
       "      <td>...</td>\n",
       "      <td>...</td>\n",
       "      <td>...</td>\n",
       "      <td>...</td>\n",
       "      <td>...</td>\n",
       "    </tr>\n",
       "    <tr>\n",
       "      <td>478</td>\n",
       "      <td>43.3989</td>\n",
       "      <td>43.3833</td>\n",
       "      <td>43.5182</td>\n",
       "      <td>43.3002</td>\n",
       "      <td>43.1597</td>\n",
       "      <td>42.8161</td>\n",
       "      <td>42.8444</td>\n",
       "      <td>43.0132</td>\n",
       "      <td>43.0110</td>\n",
       "      <td>43.0271</td>\n",
       "      <td>...</td>\n",
       "      <td>42.2699</td>\n",
       "      <td>42.5731</td>\n",
       "      <td>42.3475</td>\n",
       "      <td>42.3337</td>\n",
       "      <td>42.4165</td>\n",
       "      <td>42.1842</td>\n",
       "      <td>42.4169</td>\n",
       "      <td>42.3217</td>\n",
       "      <td>42.7744</td>\n",
       "      <td>42.7039</td>\n",
       "    </tr>\n",
       "    <tr>\n",
       "      <td>479</td>\n",
       "      <td>43.3833</td>\n",
       "      <td>43.5182</td>\n",
       "      <td>43.3002</td>\n",
       "      <td>43.1597</td>\n",
       "      <td>42.8161</td>\n",
       "      <td>42.8444</td>\n",
       "      <td>43.0132</td>\n",
       "      <td>43.0110</td>\n",
       "      <td>43.0271</td>\n",
       "      <td>43.0384</td>\n",
       "      <td>...</td>\n",
       "      <td>42.5731</td>\n",
       "      <td>42.3475</td>\n",
       "      <td>42.3337</td>\n",
       "      <td>42.4165</td>\n",
       "      <td>42.1842</td>\n",
       "      <td>42.4169</td>\n",
       "      <td>42.3217</td>\n",
       "      <td>42.7744</td>\n",
       "      <td>42.7039</td>\n",
       "      <td>42.6173</td>\n",
       "    </tr>\n",
       "    <tr>\n",
       "      <td>480</td>\n",
       "      <td>43.5182</td>\n",
       "      <td>43.3002</td>\n",
       "      <td>43.1597</td>\n",
       "      <td>42.8161</td>\n",
       "      <td>42.8444</td>\n",
       "      <td>43.0132</td>\n",
       "      <td>43.0110</td>\n",
       "      <td>43.0271</td>\n",
       "      <td>43.0384</td>\n",
       "      <td>42.7201</td>\n",
       "      <td>...</td>\n",
       "      <td>42.3475</td>\n",
       "      <td>42.3337</td>\n",
       "      <td>42.4165</td>\n",
       "      <td>42.1842</td>\n",
       "      <td>42.4169</td>\n",
       "      <td>42.3217</td>\n",
       "      <td>42.7744</td>\n",
       "      <td>42.7039</td>\n",
       "      <td>42.6173</td>\n",
       "      <td>42.3822</td>\n",
       "    </tr>\n",
       "    <tr>\n",
       "      <td>481</td>\n",
       "      <td>43.3002</td>\n",
       "      <td>43.1597</td>\n",
       "      <td>42.8161</td>\n",
       "      <td>42.8444</td>\n",
       "      <td>43.0132</td>\n",
       "      <td>43.0110</td>\n",
       "      <td>43.0271</td>\n",
       "      <td>43.0384</td>\n",
       "      <td>42.7201</td>\n",
       "      <td>42.7988</td>\n",
       "      <td>...</td>\n",
       "      <td>42.3337</td>\n",
       "      <td>42.4165</td>\n",
       "      <td>42.1842</td>\n",
       "      <td>42.4169</td>\n",
       "      <td>42.3217</td>\n",
       "      <td>42.7744</td>\n",
       "      <td>42.7039</td>\n",
       "      <td>42.6173</td>\n",
       "      <td>42.3822</td>\n",
       "      <td>42.5389</td>\n",
       "    </tr>\n",
       "    <tr>\n",
       "      <td>482</td>\n",
       "      <td>43.1597</td>\n",
       "      <td>42.8161</td>\n",
       "      <td>42.8444</td>\n",
       "      <td>43.0132</td>\n",
       "      <td>43.0110</td>\n",
       "      <td>43.0271</td>\n",
       "      <td>43.0384</td>\n",
       "      <td>42.7201</td>\n",
       "      <td>42.7988</td>\n",
       "      <td>43.1491</td>\n",
       "      <td>...</td>\n",
       "      <td>42.4165</td>\n",
       "      <td>42.1842</td>\n",
       "      <td>42.4169</td>\n",
       "      <td>42.3217</td>\n",
       "      <td>42.7744</td>\n",
       "      <td>42.7039</td>\n",
       "      <td>42.6173</td>\n",
       "      <td>42.3822</td>\n",
       "      <td>42.5389</td>\n",
       "      <td>42.6627</td>\n",
       "    </tr>\n",
       "  </tbody>\n",
       "</table>\n",
       "<p>483 rows × 35 columns</p>\n",
       "</div>"
      ],
      "text/plain": [
       "     *past_0  *past_1  *past_2  *past_3  *past_4  *past_5  *past_6  *past_7  \\\n",
       "0    44.6558  44.5205  44.8442  44.5740  44.7925  44.9298  45.0872  45.2999   \n",
       "1    44.5205  44.8442  44.5740  44.7925  44.9298  45.0872  45.2999  45.4242   \n",
       "2    44.8442  44.5740  44.7925  44.9298  45.0872  45.2999  45.4242  45.2839   \n",
       "3    44.5740  44.7925  44.9298  45.0872  45.2999  45.4242  45.2839  44.9261   \n",
       "4    44.7925  44.9298  45.0872  45.2999  45.4242  45.2839  44.9261  45.2577   \n",
       "..       ...      ...      ...      ...      ...      ...      ...      ...   \n",
       "478  43.3989  43.3833  43.5182  43.3002  43.1597  42.8161  42.8444  43.0132   \n",
       "479  43.3833  43.5182  43.3002  43.1597  42.8161  42.8444  43.0132  43.0110   \n",
       "480  43.5182  43.3002  43.1597  42.8161  42.8444  43.0132  43.0110  43.0271   \n",
       "481  43.3002  43.1597  42.8161  42.8444  43.0132  43.0110  43.0271  43.0384   \n",
       "482  43.1597  42.8161  42.8444  43.0132  43.0110  43.0271  43.0384  42.7201   \n",
       "\n",
       "     *past_8  *past_9  ...  *past_25  *past_26  *past_27  *future_0  \\\n",
       "0    45.4242  45.2839  ...   45.4535   45.3175   45.0810    44.9885   \n",
       "1    45.2839  44.9261  ...   45.3175   45.0810   44.9885    44.6299   \n",
       "2    44.9261  45.2577  ...   45.0810   44.9885   44.6299    44.7470   \n",
       "3    45.2577  45.1681  ...   44.9885   44.6299   44.7470    44.4845   \n",
       "4    45.1681  45.1488  ...   44.6299   44.7470   44.4845    44.3302   \n",
       "..       ...      ...  ...       ...       ...       ...        ...   \n",
       "478  43.0110  43.0271  ...   42.2699   42.5731   42.3475    42.3337   \n",
       "479  43.0271  43.0384  ...   42.5731   42.3475   42.3337    42.4165   \n",
       "480  43.0384  42.7201  ...   42.3475   42.3337   42.4165    42.1842   \n",
       "481  42.7201  42.7988  ...   42.3337   42.4165   42.1842    42.4169   \n",
       "482  42.7988  43.1491  ...   42.4165   42.1842   42.4169    42.3217   \n",
       "\n",
       "     *future_1  *future_2  *future_3  *future_4  *future_5  *future_6  \n",
       "0      44.6299    44.7470    44.4845    44.3302    44.0936    43.7023  \n",
       "1      44.7470    44.4845    44.3302    44.0936    43.7023    43.9775  \n",
       "2      44.4845    44.3302    44.0936    43.7023    43.9775    43.6569  \n",
       "3      44.3302    44.0936    43.7023    43.9775    43.6569    44.0091  \n",
       "4      44.0936    43.7023    43.9775    43.6569    44.0091    44.2125  \n",
       "..         ...        ...        ...        ...        ...        ...  \n",
       "478    42.4165    42.1842    42.4169    42.3217    42.7744    42.7039  \n",
       "479    42.1842    42.4169    42.3217    42.7744    42.7039    42.6173  \n",
       "480    42.4169    42.3217    42.7744    42.7039    42.6173    42.3822  \n",
       "481    42.3217    42.7744    42.7039    42.6173    42.3822    42.5389  \n",
       "482    42.7744    42.7039    42.6173    42.3822    42.5389    42.6627  \n",
       "\n",
       "[483 rows x 35 columns]"
      ]
     },
     "execution_count": 47,
     "metadata": {},
     "output_type": "execute_result"
    }
   ],
   "source": [
    "df"
   ]
  },
  {
   "cell_type": "code",
   "execution_count": 53,
   "metadata": {},
   "outputs": [],
   "source": [
    "X = df[past_columns][:-1]"
   ]
  },
  {
   "cell_type": "code",
   "execution_count": 54,
   "metadata": {},
   "outputs": [],
   "source": [
    "Y = df[future_columns][:-1]"
   ]
  },
  {
   "cell_type": "code",
   "execution_count": 56,
   "metadata": {},
   "outputs": [
    {
     "data": {
      "text/html": [
       "<div>\n",
       "<style scoped>\n",
       "    .dataframe tbody tr th:only-of-type {\n",
       "        vertical-align: middle;\n",
       "    }\n",
       "\n",
       "    .dataframe tbody tr th {\n",
       "        vertical-align: top;\n",
       "    }\n",
       "\n",
       "    .dataframe thead th {\n",
       "        text-align: right;\n",
       "    }\n",
       "</style>\n",
       "<table border=\"1\" class=\"dataframe\">\n",
       "  <thead>\n",
       "    <tr style=\"text-align: right;\">\n",
       "      <th></th>\n",
       "      <th>*future_0</th>\n",
       "      <th>*future_1</th>\n",
       "      <th>*future_2</th>\n",
       "      <th>*future_3</th>\n",
       "      <th>*future_4</th>\n",
       "      <th>*future_5</th>\n",
       "      <th>*future_6</th>\n",
       "    </tr>\n",
       "  </thead>\n",
       "  <tbody>\n",
       "    <tr>\n",
       "      <td>0</td>\n",
       "      <td>44.9885</td>\n",
       "      <td>44.6299</td>\n",
       "      <td>44.7470</td>\n",
       "      <td>44.4845</td>\n",
       "      <td>44.3302</td>\n",
       "      <td>44.0936</td>\n",
       "      <td>43.7023</td>\n",
       "    </tr>\n",
       "    <tr>\n",
       "      <td>1</td>\n",
       "      <td>44.6299</td>\n",
       "      <td>44.7470</td>\n",
       "      <td>44.4845</td>\n",
       "      <td>44.3302</td>\n",
       "      <td>44.0936</td>\n",
       "      <td>43.7023</td>\n",
       "      <td>43.9775</td>\n",
       "    </tr>\n",
       "    <tr>\n",
       "      <td>2</td>\n",
       "      <td>44.7470</td>\n",
       "      <td>44.4845</td>\n",
       "      <td>44.3302</td>\n",
       "      <td>44.0936</td>\n",
       "      <td>43.7023</td>\n",
       "      <td>43.9775</td>\n",
       "      <td>43.6569</td>\n",
       "    </tr>\n",
       "    <tr>\n",
       "      <td>3</td>\n",
       "      <td>44.4845</td>\n",
       "      <td>44.3302</td>\n",
       "      <td>44.0936</td>\n",
       "      <td>43.7023</td>\n",
       "      <td>43.9775</td>\n",
       "      <td>43.6569</td>\n",
       "      <td>44.0091</td>\n",
       "    </tr>\n",
       "    <tr>\n",
       "      <td>4</td>\n",
       "      <td>44.3302</td>\n",
       "      <td>44.0936</td>\n",
       "      <td>43.7023</td>\n",
       "      <td>43.9775</td>\n",
       "      <td>43.6569</td>\n",
       "      <td>44.0091</td>\n",
       "      <td>44.2125</td>\n",
       "    </tr>\n",
       "    <tr>\n",
       "      <td>...</td>\n",
       "      <td>...</td>\n",
       "      <td>...</td>\n",
       "      <td>...</td>\n",
       "      <td>...</td>\n",
       "      <td>...</td>\n",
       "      <td>...</td>\n",
       "      <td>...</td>\n",
       "    </tr>\n",
       "    <tr>\n",
       "      <td>477</td>\n",
       "      <td>42.3475</td>\n",
       "      <td>42.3337</td>\n",
       "      <td>42.4165</td>\n",
       "      <td>42.1842</td>\n",
       "      <td>42.4169</td>\n",
       "      <td>42.3217</td>\n",
       "      <td>42.7744</td>\n",
       "    </tr>\n",
       "    <tr>\n",
       "      <td>478</td>\n",
       "      <td>42.3337</td>\n",
       "      <td>42.4165</td>\n",
       "      <td>42.1842</td>\n",
       "      <td>42.4169</td>\n",
       "      <td>42.3217</td>\n",
       "      <td>42.7744</td>\n",
       "      <td>42.7039</td>\n",
       "    </tr>\n",
       "    <tr>\n",
       "      <td>479</td>\n",
       "      <td>42.4165</td>\n",
       "      <td>42.1842</td>\n",
       "      <td>42.4169</td>\n",
       "      <td>42.3217</td>\n",
       "      <td>42.7744</td>\n",
       "      <td>42.7039</td>\n",
       "      <td>42.6173</td>\n",
       "    </tr>\n",
       "    <tr>\n",
       "      <td>480</td>\n",
       "      <td>42.1842</td>\n",
       "      <td>42.4169</td>\n",
       "      <td>42.3217</td>\n",
       "      <td>42.7744</td>\n",
       "      <td>42.7039</td>\n",
       "      <td>42.6173</td>\n",
       "      <td>42.3822</td>\n",
       "    </tr>\n",
       "    <tr>\n",
       "      <td>481</td>\n",
       "      <td>42.4169</td>\n",
       "      <td>42.3217</td>\n",
       "      <td>42.7744</td>\n",
       "      <td>42.7039</td>\n",
       "      <td>42.6173</td>\n",
       "      <td>42.3822</td>\n",
       "      <td>42.5389</td>\n",
       "    </tr>\n",
       "  </tbody>\n",
       "</table>\n",
       "<p>482 rows × 7 columns</p>\n",
       "</div>"
      ],
      "text/plain": [
       "     *future_0  *future_1  *future_2  *future_3  *future_4  *future_5  \\\n",
       "0      44.9885    44.6299    44.7470    44.4845    44.3302    44.0936   \n",
       "1      44.6299    44.7470    44.4845    44.3302    44.0936    43.7023   \n",
       "2      44.7470    44.4845    44.3302    44.0936    43.7023    43.9775   \n",
       "3      44.4845    44.3302    44.0936    43.7023    43.9775    43.6569   \n",
       "4      44.3302    44.0936    43.7023    43.9775    43.6569    44.0091   \n",
       "..         ...        ...        ...        ...        ...        ...   \n",
       "477    42.3475    42.3337    42.4165    42.1842    42.4169    42.3217   \n",
       "478    42.3337    42.4165    42.1842    42.4169    42.3217    42.7744   \n",
       "479    42.4165    42.1842    42.4169    42.3217    42.7744    42.7039   \n",
       "480    42.1842    42.4169    42.3217    42.7744    42.7039    42.6173   \n",
       "481    42.4169    42.3217    42.7744    42.7039    42.6173    42.3822   \n",
       "\n",
       "     *future_6  \n",
       "0      43.7023  \n",
       "1      43.9775  \n",
       "2      43.6569  \n",
       "3      44.0091  \n",
       "4      44.2125  \n",
       "..         ...  \n",
       "477    42.7744  \n",
       "478    42.7039  \n",
       "479    42.6173  \n",
       "480    42.3822  \n",
       "481    42.5389  \n",
       "\n",
       "[482 rows x 7 columns]"
      ]
     },
     "execution_count": 56,
     "metadata": {},
     "output_type": "execute_result"
    }
   ],
   "source": [
    "Y\n"
   ]
  },
  {
   "cell_type": "code",
   "execution_count": 58,
   "metadata": {},
   "outputs": [],
   "source": [
    "X_test = df[past_columns][-1:]"
   ]
  },
  {
   "cell_type": "code",
   "execution_count": 60,
   "metadata": {},
   "outputs": [],
   "source": [
    "Y_test = df[future_columns][-1:]"
   ]
  },
  {
   "cell_type": "markdown",
   "metadata": {},
   "source": [
    "# LinearRegression\n",
    "\n"
   ]
  },
  {
   "cell_type": "code",
   "execution_count": 63,
   "metadata": {},
   "outputs": [],
   "source": [
    "from sklearn.linear_model import LinearRegression"
   ]
  },
  {
   "cell_type": "code",
   "execution_count": 64,
   "metadata": {},
   "outputs": [],
   "source": [
    "LinReg = LinearRegression()"
   ]
  },
  {
   "cell_type": "code",
   "execution_count": 67,
   "metadata": {},
   "outputs": [
    {
     "data": {
      "text/plain": [
       "LinearRegression(copy_X=True, fit_intercept=True, n_jobs=None, normalize=False)"
      ]
     },
     "execution_count": 67,
     "metadata": {},
     "output_type": "execute_result"
    }
   ],
   "source": [
    "LinReg.fit(X, Y)"
   ]
  },
  {
   "cell_type": "code",
   "execution_count": 68,
   "metadata": {},
   "outputs": [],
   "source": [
    "prediction = LinReg.predict(X_test)"
   ]
  },
  {
   "cell_type": "code",
   "execution_count": 69,
   "metadata": {},
   "outputs": [
    {
     "data": {
      "text/plain": [
       "array([[42.47327506, 42.58421054, 42.63050111, 42.61796336, 42.61444343,\n",
       "        42.63321801, 42.59318634]])"
      ]
     },
     "execution_count": 69,
     "metadata": {},
     "output_type": "execute_result"
    }
   ],
   "source": [
    "prediction\n"
   ]
  },
  {
   "cell_type": "code",
   "execution_count": 70,
   "metadata": {},
   "outputs": [
    {
     "data": {
      "text/html": [
       "<div>\n",
       "<style scoped>\n",
       "    .dataframe tbody tr th:only-of-type {\n",
       "        vertical-align: middle;\n",
       "    }\n",
       "\n",
       "    .dataframe tbody tr th {\n",
       "        vertical-align: top;\n",
       "    }\n",
       "\n",
       "    .dataframe thead th {\n",
       "        text-align: right;\n",
       "    }\n",
       "</style>\n",
       "<table border=\"1\" class=\"dataframe\">\n",
       "  <thead>\n",
       "    <tr style=\"text-align: right;\">\n",
       "      <th></th>\n",
       "      <th>*future_0</th>\n",
       "      <th>*future_1</th>\n",
       "      <th>*future_2</th>\n",
       "      <th>*future_3</th>\n",
       "      <th>*future_4</th>\n",
       "      <th>*future_5</th>\n",
       "      <th>*future_6</th>\n",
       "    </tr>\n",
       "  </thead>\n",
       "  <tbody>\n",
       "    <tr>\n",
       "      <td>482</td>\n",
       "      <td>42.3217</td>\n",
       "      <td>42.7744</td>\n",
       "      <td>42.7039</td>\n",
       "      <td>42.6173</td>\n",
       "      <td>42.3822</td>\n",
       "      <td>42.5389</td>\n",
       "      <td>42.6627</td>\n",
       "    </tr>\n",
       "  </tbody>\n",
       "</table>\n",
       "</div>"
      ],
      "text/plain": [
       "     *future_0  *future_1  *future_2  *future_3  *future_4  *future_5  \\\n",
       "482    42.3217    42.7744    42.7039    42.6173    42.3822    42.5389   \n",
       "\n",
       "     *future_6  \n",
       "482    42.6627  "
      ]
     },
     "execution_count": 70,
     "metadata": {},
     "output_type": "execute_result"
    }
   ],
   "source": [
    "Y_test\n"
   ]
  },
  {
   "cell_type": "code",
   "execution_count": 83,
   "metadata": {},
   "outputs": [],
   "source": [
    "import matplotlib.pyplot as plt"
   ]
  },
  {
   "cell_type": "code",
   "execution_count": 88,
   "metadata": {},
   "outputs": [
    {
     "data": {
      "text/plain": [
       "<matplotlib.legend.Legend at 0x1652973c8c8>"
      ]
     },
     "execution_count": 88,
     "metadata": {},
     "output_type": "execute_result"
    },
    {
     "data": {
      "image/png": "[encoded data removed]",
      "text/plain": [
       "<Figure size 432x288 with 1 Axes>"
      ]
     },
     "metadata": {
      "needs_background": "light"
     },
     "output_type": "display_data"
    }
   ],
   "source": [
    "plt.plot(prediction[0], label = \"Prediction\")\n",
    "plt.plot(Y_test.iloc[0], label = \"Real_Data\")\n",
    "plt.legend()"
   ]
  },
  {
   "cell_type": "code",
   "execution_count": 89,
   "metadata": {},
   "outputs": [],
   "source": [
    "from sklearn.metrics import mean_absolute_error"
   ]
  },
  {
   "cell_type": "code",
   "execution_count": 91,
   "metadata": {},
   "outputs": [
    {
     "data": {
      "text/plain": [
       "0.11598598103458155"
      ]
     },
     "execution_count": 91,
     "metadata": {},
     "output_type": "execute_result"
    }
   ],
   "source": [
    "mean_absolute_error(prediction[0], Y_test.iloc[0])"
   ]
  },
  {
   "cell_type": "markdown",
   "metadata": {},
   "source": [
    "# Neural networks\n"
   ]
  },
  {
   "cell_type": "code",
   "execution_count": 92,
   "metadata": {},
   "outputs": [],
   "source": [
    "from sklearn.neural_network import MLPRegressor"
   ]
  },
  {
   "cell_type": "code",
   "execution_count": 133,
   "metadata": {},
   "outputs": [],
   "source": [
    "MLP = MLPRegressor(max_iter=500, hidden_layer_sizes=(100, 100, 100), random_state=42)"
   ]
  },
  {
   "cell_type": "code",
   "execution_count": 134,
   "metadata": {},
   "outputs": [
    {
     "data": {
      "text/plain": [
       "MLPRegressor(activation='relu', alpha=0.0001, batch_size='auto', beta_1=0.9,\n",
       "             beta_2=0.999, early_stopping=False, epsilon=1e-08,\n",
       "             hidden_layer_sizes=(100, 100, 100), learning_rate='constant',\n",
       "             learning_rate_init=0.001, max_iter=500, momentum=0.9,\n",
       "             n_iter_no_change=10, nesterovs_momentum=True, power_t=0.5,\n",
       "             random_state=42, shuffle=True, solver='adam', tol=0.0001,\n",
       "             validation_fraction=0.1, verbose=False, warm_start=False)"
      ]
     },
     "execution_count": 134,
     "metadata": {},
     "output_type": "execute_result"
    }
   ],
   "source": [
    "MLP.fit(X,Y)"
   ]
  },
  {
   "cell_type": "code",
   "execution_count": 130,
   "metadata": {},
   "outputs": [],
   "source": [
    "prediction = MLP.predict(X_test)"
   ]
  },
  {
   "cell_type": "code",
   "execution_count": 135,
   "metadata": {},
   "outputs": [
    {
     "data": {
      "text/plain": [
       "<matplotlib.legend.Legend at 0x1652ac3ee48>"
      ]
     },
     "execution_count": 135,
     "metadata": {},
     "output_type": "execute_result"
    },
    {
     "data": {
      "image/png": "[encoded data removed]",
      "text/plain": [
       "<Figure size 432x288 with 1 Axes>"
      ]
     },
     "metadata": {
      "needs_background": "light"
     },
     "output_type": "display_data"
    }
   ],
   "source": [
    "plt.plot(prediction[0], label = \"Prediction\")\n",
    "plt.plot(Y_test.iloc[0], label = \"Real_Data\")\n",
    "plt.legend()"
   ]
  },
  {
   "cell_type": "code",
   "execution_count": 136,
   "metadata": {},
   "outputs": [
    {
     "data": {
      "text/plain": [
       "0.18847120937007641"
      ]
     },
     "execution_count": 136,
     "metadata": {},
     "output_type": "execute_result"
    }
   ],
   "source": [
    "mean_absolute_error(prediction[0], Y_test.iloc[0])"
   ]
  },
  {
   "cell_type": "markdown",
   "metadata": {},
   "source": [
    "# RandomForest\n"
   ]
  },
  {
   "cell_type": "code",
   "execution_count": 160,
   "metadata": {},
   "outputs": [],
   "source": [
    "from sklearn.ensemble import RandomForestRegressor"
   ]
  },
  {
   "cell_type": "code",
   "execution_count": 170,
   "metadata": {},
   "outputs": [],
   "source": [
    "RFR = RandomForestRegressor(n_estimators=1000, max_depth=10)"
   ]
  },
  {
   "cell_type": "code",
   "execution_count": 171,
   "metadata": {},
   "outputs": [
    {
     "data": {
      "text/plain": [
       "RandomForestRegressor(bootstrap=True, criterion='mse', max_depth=10,\n",
       "                      max_features='auto', max_leaf_nodes=None,\n",
       "                      min_impurity_decrease=0.0, min_impurity_split=None,\n",
       "                      min_samples_leaf=1, min_samples_split=2,\n",
       "                      min_weight_fraction_leaf=0.0, n_estimators=1000,\n",
       "                      n_jobs=None, oob_score=False, random_state=None,\n",
       "                      verbose=0, warm_start=False)"
      ]
     },
     "execution_count": 171,
     "metadata": {},
     "output_type": "execute_result"
    }
   ],
   "source": [
    "RFR.fit(X, Y)"
   ]
  },
  {
   "cell_type": "code",
   "execution_count": 172,
   "metadata": {},
   "outputs": [],
   "source": [
    "prediction = RFR.predict(X_test)"
   ]
  },
  {
   "cell_type": "code",
   "execution_count": 173,
   "metadata": {},
   "outputs": [
    {
     "data": {
      "text/plain": [
       "<matplotlib.legend.Legend at 0x1656e83f948>"
      ]
     },
     "execution_count": 173,
     "metadata": {},
     "output_type": "execute_result"
    },
    {
     "data": {
      "image/png": "[encoded data removed]",
      "text/plain": [
       "<Figure size 432x288 with 1 Axes>"
      ]
     },
     "metadata": {
      "needs_background": "light"
     },
     "output_type": "display_data"
    }
   ],
   "source": [
    "plt.plot(prediction[0], label = \"Prediction\")\n",
    "plt.plot(Y_test.iloc[0], label = \"Real_Data\")\n",
    "plt.legend()"
   ]
  },
  {
   "cell_type": "code",
   "execution_count": 174,
   "metadata": {},
   "outputs": [
    {
     "data": {
      "text/plain": [
       "0.16445825095232688"
      ]
     },
     "execution_count": 174,
     "metadata": {},
     "output_type": "execute_result"
    }
   ],
   "source": [
    "mean_absolute_error(prediction[0], Y_test.iloc[0])\n"
   ]
  },
  {
   "cell_type": "code",
   "execution_count": 169,
   "metadata": {},
   "outputs": [],
   "source": [
    "from sklearn.neighbors import KNeighborsRegressor"
   ]
  },
  {
   "cell_type": "code",
   "execution_count": 208,
   "metadata": {},
   "outputs": [],
   "source": [
    "KNR = KNeighborsRegressor(n_neighbors=1)"
   ]
  },
  {
   "cell_type": "code",
   "execution_count": 209,
   "metadata": {},
   "outputs": [
    {
     "data": {
      "text/plain": [
       "KNeighborsRegressor(algorithm='auto', leaf_size=30, metric='minkowski',\n",
       "                    metric_params=None, n_jobs=None, n_neighbors=1, p=2,\n",
       "                    weights='uniform')"
      ]
     },
     "execution_count": 209,
     "metadata": {},
     "output_type": "execute_result"
    }
   ],
   "source": [
    "KNR.fit(X,Y)"
   ]
  },
  {
   "cell_type": "code",
   "execution_count": 210,
   "metadata": {},
   "outputs": [],
   "source": [
    "prediction = KNR.predict(X_test)"
   ]
  },
  {
   "cell_type": "code",
   "execution_count": 211,
   "metadata": {},
   "outputs": [
    {
     "data": {
      "text/plain": [
       "<matplotlib.legend.Legend at 0x1656fb4e488>"
      ]
     },
     "execution_count": 211,
     "metadata": {},
     "output_type": "execute_result"
    },
    {
     "data": {
      "image/png": "[encoded data removed]",
      "text/plain": [
       "<Figure size 432x288 with 1 Axes>"
      ]
     },
     "metadata": {
      "needs_background": "light"
     },
     "output_type": "display_data"
    }
   ],
   "source": [
    "plt.plot(prediction[0], label = \"Prediction\")\n",
    "plt.plot(Y_test.iloc[0], label = \"Real_Data\")\n",
    "plt.legend()"
   ]
  },
  {
   "cell_type": "code",
   "execution_count": 212,
   "metadata": {},
   "outputs": [
    {
     "data": {
      "text/plain": [
       "0.17437142857142923"
      ]
     },
     "execution_count": 212,
     "metadata": {},
     "output_type": "execute_result"
    }
   ],
   "source": [
    "mean_absolute_error(prediction[0], Y_test.iloc[0])"
   ]
  },
  {
   "cell_type": "code",
   "execution_count": null,
   "metadata": {},
   "outputs": [],
   "source": []
  }
 ],
 "metadata": {
  "kernelspec": {
   "display_name": "Python 3",
   "language": "python",
   "name": "python3"
  },
  "language_info": {
   "codemirror_mode": {
    "name": "ipython",
    "version": 3
   },
   "file_extension": ".py",
   "mimetype": "text/x-python",
   "name": "python",
   "nbconvert_exporter": "python",
   "pygments_lexer": "ipython3",
   "version": "3.7.4"
  }
 },
 "nbformat": 4,
 "nbformat_minor": 2
}
